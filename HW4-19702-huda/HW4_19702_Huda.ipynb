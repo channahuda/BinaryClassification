{
  "nbformat": 4,
  "nbformat_minor": 0,
  "metadata": {
    "colab": {
      "name": "HW4_19702_Huda.ipynb",
      "provenance": [],
      "collapsed_sections": []
    },
    "kernelspec": {
      "display_name": "Python 3",
      "language": "python",
      "name": "python3"
    },
    "language_info": {
      "codemirror_mode": {
        "name": "ipython",
        "version": 3
      },
      "file_extension": ".py",
      "mimetype": "text/x-python",
      "name": "python",
      "nbconvert_exporter": "python",
      "pygments_lexer": "ipython3",
      "version": "3.8.3"
    }
  },
  "cells": [
    {
      "cell_type": "code",
      "metadata": {
        "id": "EKFmUX_pOYfB",
        "colab": {
          "base_uri": "https://localhost:8080/"
        },
        "outputId": "273defa1-2d7f-4b50-c1d4-05ba76355130"
      },
      "source": [
        "# Simple for loop to check if python3 is working.\n",
        "for x in range(1, 5):  # If you ever see xrange, you are in Python 2\n",
        "    print(x)  # If you ever see print x (no parenthesis), you are in Python 2"
      ],
      "execution_count": 1,
      "outputs": [
        {
          "output_type": "stream",
          "text": [
            "1\n",
            "2\n",
            "3\n",
            "4\n"
          ],
          "name": "stdout"
        }
      ]
    },
    {
      "cell_type": "code",
      "metadata": {
        "id": "K1NBWtryTOUy",
        "colab": {
          "base_uri": "https://localhost:8080/"
        },
        "outputId": "5fba118c-d8de-4516-d8e5-77a1b23ccf7a"
      },
      "source": [
        "try:\n",
        "    from google.colab import drive\n",
        "    drive.mount('/content/drive', force_remount=True)\n",
        "    COLAB = True\n",
        "    print(\"Note: using Google CoLab\")\n",
        "    %tensorflow_version 2.x\n",
        "except:\n",
        "    print(\"Note: not using Google CoLab\")\n",
        "    COLAB = False"
      ],
      "execution_count": 2,
      "outputs": [
        {
          "output_type": "stream",
          "text": [
            "Mounted at /content/drive\n",
            "Note: using Google CoLab\n"
          ],
          "name": "stdout"
        }
      ]
    },
    {
      "cell_type": "code",
      "metadata": {
        "id": "Z9WHUCgbTjrB",
        "colab": {
          "base_uri": "https://localhost:8080/",
          "height": 240
        },
        "outputId": "71b07290-b022-442a-d1f9-eed14960bfe8"
      },
      "source": [
        "#https://www.youtube.com/watch?v=j-3vuBynnOE\n",
        "\n",
        "#pip install opencv-pythonimport tensorflow as tf\n",
        "import matplotlib.pyplot as plt\n",
        "from sklearn.metrics import roc_curve, auc\n",
        "import os\n",
        "import cv2\n",
        "\n",
        "DATADIR = \"/content/drive/My Drive/Colab Notebooks/CK/\"\n",
        "#CATEGORIES = [\"O\", \"Other\"]\n",
        "CATEGORIES = [\"c\", \"k\"]\n",
        "#CATEGORIES = [\"X\"]\n",
        "#CATEGORIES = [\"X\", \"Other\"]\n",
        "\n",
        "for category in CATEGORIES:\n",
        "    path = os.path.join(DATADIR, category)\n",
        "    for img in os.listdir(path):\n",
        "        try:\n",
        "            img_array = cv2.imread(os.path.join(path,img), cv2.IMREAD_GRAYSCALE)\n",
        "            plt.imshow(img_array, cmap=\"gray\")\n",
        "        except Exception as e:\n",
        "            pass\n"
      ],
      "execution_count": 4,
      "outputs": [
        {
          "output_type": "display_data",
          "data": {
            "image/png": "[encoded data removed]",
            "text/plain": [
              "<Figure size 432x288 with 1 Axes>"
            ]
          },
          "metadata": {
            "tags": [],
            "needs_background": "light"
          }
        }
      ]
    },
    {
      "cell_type": "code",
      "metadata": {
        "id": "Vo15yCFCV6gD",
        "colab": {
          "base_uri": "https://localhost:8080/"
        },
        "outputId": "4336fbff-2162-4560-a57a-bef8b12d0893"
      },
      "source": [
        "!ls /content/drive/My\\ Drive/Colab\\ Notebooks"
      ],
      "execution_count": 7,
      "outputs": [
        {
          "output_type": "stream",
          "text": [
            " CK  'HW4_19702_Huda(1).ipynb'\t HW4-19702-Huda.ipynb   XandO\n"
          ],
          "name": "stdout"
        }
      ]
    },
    {
      "cell_type": "code",
      "metadata": {
        "id": "5bathcfmm4pM",
        "colab": {
          "base_uri": "https://localhost:8080/"
        },
        "outputId": "1f914019-151e-424d-840c-2b21eb85c8fe"
      },
      "source": [
        "import numpy as np\n",
        "import matplotlib.pyplot as plt\n",
        "import os\n",
        "import cv2\n",
        "import random\n",
        "\n",
        "#DATADIR = \"./train/\"\n",
        "#CATEGORIES = [\"Jibril\", \"Sulayman\"]\n",
        "#DATADIR = \"./XandO/\"\n",
        "#CATEGORIES = [\"X\", \"O\"]\n",
        "#DATADIR = \"./kagglecatsanddogs_3367a/PetImages\"\n",
        "#DATADIR = \"./kagglecatsanddogs_small/PetImages\"\n",
        "#CATEGORIES = [\"Dog\", \"Cat\"]\n",
        "\n",
        "\n",
        "IMG_SIZE = 50\n",
        "\n",
        "training_data = []\n",
        "def create_training_data():\n",
        "    for category in CATEGORIES:\n",
        "        path = os.path.join(DATADIR, category)\n",
        "        class_num = CATEGORIES.index(category)\n",
        "        for img in os.listdir(path):\n",
        "            try:\n",
        "                img_array = cv2.imread(os.path.join(path,img), cv2.IMREAD_GRAYSCALE)\n",
        "                new_array = cv2.resize(img_array, (IMG_SIZE, IMG_SIZE))\n",
        "                training_data.append([new_array,class_num])\n",
        "            except Exception as e:\n",
        "                pass\n",
        "\n",
        "create_training_data()\n",
        "print(len(training_data))\n",
        "\n",
        "random.shuffle(training_data)\n",
        "\n",
        "#for sample in training_data:\n",
        "#    print(sample[1])\n",
        "\n",
        "X=[]\n",
        "Y=[]\n",
        "for features, label in training_data:\n",
        "    X.append(features)\n",
        "    Y.append(label)\n",
        "    \n",
        "X = np.array(X).reshape(-1, IMG_SIZE, IMG_SIZE,1)\n",
        "Y = np.array(Y)\n",
        "X = X/255.0\n",
        "#print (X)"
      ],
      "execution_count": 8,
      "outputs": [
        {
          "output_type": "stream",
          "text": [
            "67\n"
          ],
          "name": "stdout"
        }
      ]
    },
    {
      "cell_type": "code",
      "metadata": {
        "id": "F2GQL1X1mmdS",
        "colab": {
          "base_uri": "https://localhost:8080/"
        },
        "outputId": "d5013f3e-0f92-48ce-f99f-39b48b3458b8"
      },
      "source": [
        "import tensorflow as tf\n",
        "from tensorflow.keras.models import Sequential\n",
        "from tensorflow.keras.layers import Dense, Dropout, Activation, Flatten, Conv2D, MaxPooling2D\n",
        "from tensorflow.keras.callbacks import EarlyStopping\n",
        "from sklearn.model_selection import train_test_split\n",
        "#import pickle\n",
        "\n",
        "#X=pickle.load(open(\"X.pickle\", \"rb\"))\n",
        "#Y = pickle.load(open(\"Y.pickle\",\"rb\"))\n",
        "#print(X)\n",
        "\n",
        "# Split into train/test\n",
        "x_train, x_test, y_train, y_test = train_test_split(X, Y, test_size = 0.2, random_state=42)\n",
        "print(\"X.shape=\",X.shape)\n",
        "print(\"x_train.shape=\",x_train.shape)\n",
        "print(\"y_train.shape=\",y_train.shape)\n",
        "print(\"x_test.shape=\",x_test.shape)\n",
        "print(\"y_test.shape=\",y_test.shape)\n",
        "\n",
        "callback = EarlyStopping(monitor='val_loss', patience=5)\n",
        "# This callback will stop the training when there is no improvement in\n",
        "# the validation loss for five consecutive epochs.\n",
        "\n",
        "model = Sequential()\n",
        "\n",
        "#model.add(Conv2D(14,(3,3),input_shape=X.shape[1:]))\n",
        "model.add(Conv2D(7,(3,3),input_shape=x_train.shape[1:]))\n",
        "model.add(Activation(\"relu\"))\n",
        "model.add(MaxPooling2D(pool_size=(2,2)))\n",
        "\n",
        "#model.add(Conv2D(14,(3,3)))\n",
        "model.add(Conv2D(7,(3,3)))\n",
        "model.add(Activation(\"relu\"))\n",
        "model.add(MaxPooling2D(pool_size=(2,2)))\n",
        "\n",
        "model.add(Flatten())\n",
        "model.add(Dense(64))\n",
        "\n",
        "model.add(Dropout(0.2))\n",
        "model.add(Dense(1))\n",
        "model.add(Activation('sigmoid'))\n",
        "\n",
        "model.compile(loss=\"binary_crossentropy\",\n",
        "              optimizer=\"adam\",\n",
        "              metrics=['accuracy'])\n",
        "#model.fit(x_train, y_train,batch_size=32,epochs=500,callbacks=[callback],validation_data=(x_test,y_test))\n",
        "model.fit(x_train, y_train,batch_size=20,epochs=30,validation_data=(x_test,y_test),verbose=2)\n"
      ],
      "execution_count": 9,
      "outputs": [
        {
          "output_type": "stream",
          "text": [
            "X.shape= (67, 50, 50, 1)\n",
            "x_train.shape= (53, 50, 50, 1)\n",
            "y_train.shape= (53,)\n",
            "x_test.shape= (14, 50, 50, 1)\n",
            "y_test.shape= (14,)\n",
            "Epoch 1/30\n",
            "3/3 - 2s - loss: 0.8356 - accuracy: 0.4717 - val_loss: 0.7104 - val_accuracy: 0.4286\n",
            "Epoch 2/30\n",
            "3/3 - 0s - loss: 0.7181 - accuracy: 0.4906 - val_loss: 0.7805 - val_accuracy: 0.4286\n",
            "Epoch 3/30\n",
            "3/3 - 0s - loss: 0.6779 - accuracy: 0.5472 - val_loss: 0.6768 - val_accuracy: 0.6429\n",
            "Epoch 4/30\n",
            "3/3 - 0s - loss: 0.7508 - accuracy: 0.4528 - val_loss: 0.6640 - val_accuracy: 0.5714\n",
            "Epoch 5/30\n",
            "3/3 - 0s - loss: 0.6909 - accuracy: 0.4906 - val_loss: 0.6928 - val_accuracy: 0.4286\n",
            "Epoch 6/30\n",
            "3/3 - 0s - loss: 0.6974 - accuracy: 0.5283 - val_loss: 0.7401 - val_accuracy: 0.4286\n",
            "Epoch 7/30\n",
            "3/3 - 0s - loss: 0.7071 - accuracy: 0.4906 - val_loss: 0.6546 - val_accuracy: 0.4286\n",
            "Epoch 8/30\n",
            "3/3 - 0s - loss: 0.6414 - accuracy: 0.5660 - val_loss: 0.6232 - val_accuracy: 0.7857\n",
            "Epoch 9/30\n",
            "3/3 - 0s - loss: 0.6000 - accuracy: 0.8113 - val_loss: 0.6059 - val_accuracy: 0.8571\n",
            "Epoch 10/30\n",
            "3/3 - 0s - loss: 0.5913 - accuracy: 0.7925 - val_loss: 0.5979 - val_accuracy: 0.9286\n",
            "Epoch 11/30\n",
            "3/3 - 0s - loss: 0.5883 - accuracy: 0.7358 - val_loss: 0.5855 - val_accuracy: 0.9286\n",
            "Epoch 12/30\n",
            "3/3 - 0s - loss: 0.5800 - accuracy: 0.7170 - val_loss: 0.5639 - val_accuracy: 0.7857\n",
            "Epoch 13/30\n",
            "3/3 - 0s - loss: 0.5385 - accuracy: 0.8302 - val_loss: 0.5412 - val_accuracy: 0.7857\n",
            "Epoch 14/30\n",
            "3/3 - 0s - loss: 0.5099 - accuracy: 0.8679 - val_loss: 0.5176 - val_accuracy: 0.8571\n",
            "Epoch 15/30\n",
            "3/3 - 0s - loss: 0.4982 - accuracy: 0.8679 - val_loss: 0.5039 - val_accuracy: 0.8571\n",
            "Epoch 16/30\n",
            "3/3 - 0s - loss: 0.4789 - accuracy: 0.8679 - val_loss: 0.4807 - val_accuracy: 0.9286\n",
            "Epoch 17/30\n",
            "3/3 - 0s - loss: 0.4573 - accuracy: 0.9057 - val_loss: 0.4409 - val_accuracy: 0.8571\n",
            "Epoch 18/30\n",
            "3/3 - 0s - loss: 0.4249 - accuracy: 0.8679 - val_loss: 0.4083 - val_accuracy: 0.8571\n",
            "Epoch 19/30\n",
            "3/3 - 0s - loss: 0.3912 - accuracy: 0.9245 - val_loss: 0.3717 - val_accuracy: 0.8571\n",
            "Epoch 20/30\n",
            "3/3 - 0s - loss: 0.3701 - accuracy: 0.9057 - val_loss: 0.3323 - val_accuracy: 0.9286\n",
            "Epoch 21/30\n",
            "3/3 - 0s - loss: 0.3365 - accuracy: 0.9434 - val_loss: 0.3044 - val_accuracy: 1.0000\n",
            "Epoch 22/30\n",
            "3/3 - 0s - loss: 0.3167 - accuracy: 0.9434 - val_loss: 0.2708 - val_accuracy: 0.9286\n",
            "Epoch 23/30\n",
            "3/3 - 0s - loss: 0.2877 - accuracy: 0.9623 - val_loss: 0.2322 - val_accuracy: 0.9286\n",
            "Epoch 24/30\n",
            "3/3 - 0s - loss: 0.2774 - accuracy: 0.9245 - val_loss: 0.2064 - val_accuracy: 0.9286\n",
            "Epoch 25/30\n",
            "3/3 - 0s - loss: 0.2430 - accuracy: 0.9434 - val_loss: 0.1810 - val_accuracy: 0.9286\n",
            "Epoch 26/30\n",
            "3/3 - 0s - loss: 0.2197 - accuracy: 0.9623 - val_loss: 0.1610 - val_accuracy: 0.9286\n",
            "Epoch 27/30\n",
            "3/3 - 0s - loss: 0.1854 - accuracy: 1.0000 - val_loss: 0.1434 - val_accuracy: 0.9286\n",
            "Epoch 28/30\n",
            "3/3 - 0s - loss: 0.1752 - accuracy: 0.9811 - val_loss: 0.1365 - val_accuracy: 0.9286\n",
            "Epoch 29/30\n",
            "3/3 - 0s - loss: 0.1636 - accuracy: 0.9811 - val_loss: 0.1253 - val_accuracy: 0.9286\n",
            "Epoch 30/30\n",
            "3/3 - 0s - loss: 0.1430 - accuracy: 0.9811 - val_loss: 0.1203 - val_accuracy: 0.9286\n"
          ],
          "name": "stdout"
        },
        {
          "output_type": "execute_result",
          "data": {
            "text/plain": [
              "<tensorflow.python.keras.callbacks.History at 0x7fec3f428550>"
            ]
          },
          "metadata": {
            "tags": []
          },
          "execution_count": 9
        }
      ]
    },
    {
      "cell_type": "code",
      "metadata": {
        "colab": {
          "base_uri": "https://localhost:8080/",
          "height": 1000
        },
        "id": "tYBBniWtVT7h",
        "outputId": "bb9c1852-7210-4e1e-f9b2-47da0c060671"
      },
      "source": [
        "#This codeblock runs the given architecture\n",
        "\n",
        "import matplotlib.pyplot as plt\n",
        "arr = model.predict(x_test)\n",
        "print(len(arr))\n",
        "for count in range(len(arr)):\n",
        "  plt.imshow(x_test[count].reshape(50,50))\n",
        "  plt.show()\n",
        "  predicted = arr[count]\n",
        "  actual = y_test[count]\n",
        "  print(\"predicted label:\",predicted)\n",
        "  print(\"actual label:\",actual)\n",
        "  if((actual==0 and (predicted<=0.5 and predicted>=0)) or (actual==1 and (predicted>=0.5 and predicted<=1))):\n",
        "    print(\"The image is correctly classified\")\n",
        "  else:\n",
        "    print(\"The image is misclassified\")"
      ],
      "execution_count": 10,
      "outputs": [
        {
          "output_type": "stream",
          "text": [
            "14\n"
          ],
          "name": "stdout"
        },
        {
          "output_type": "display_data",
          "data": {
            "image/png": "[encoded data removed]",
            "text/plain": [
              "<Figure size 432x288 with 1 Axes>"
            ]
          },
          "metadata": {
            "tags": [],
            "needs_background": "light"
          }
        },
        {
          "output_type": "stream",
          "text": [
            "predicted label: [0.9800267]\n",
            "actual label: 1\n",
            "The image is correctly classified\n"
          ],
          "name": "stdout"
        },
        {
          "output_type": "display_data",
          "data": {
            "image/png": "[encoded data removed]",
            "text/plain": [
              "<Figure size 432x288 with 1 Axes>"
            ]
          },
          "metadata": {
            "tags": [],
            "needs_background": "light"
          }
        },
        {
          "output_type": "stream",
          "text": [
            "predicted label: [0.9245113]\n",
            "actual label: 1\n",
            "The image is correctly classified\n"
          ],
          "name": "stdout"
        },
        {
          "output_type": "display_data",
          "data": {
            "image/png": "[encoded data removed]",
            "text/plain": [
              "<Figure size 432x288 with 1 Axes>"
            ]
          },
          "metadata": {
            "tags": [],
            "needs_background": "light"
          }
        },
        {
          "output_type": "stream",
          "text": [
            "predicted label: [0.9717525]\n",
            "actual label: 1\n",
            "The image is correctly classified\n"
          ],
          "name": "stdout"
        },
        {
          "output_type": "display_data",
          "data": {
            "image/png": "[encoded data removed]",
            "text/plain": [
              "<Figure size 432x288 with 1 Axes>"
            ]
          },
          "metadata": {
            "tags": [],
            "needs_background": "light"
          }
        },
        {
          "output_type": "stream",
          "text": [
            "predicted label: [0.60820794]\n",
            "actual label: 0\n",
            "The image is misclassified\n"
          ],
          "name": "stdout"
        },
        {
          "output_type": "display_data",
          "data": {
            "image/png": "[encoded data removed]",
            "text/plain": [
              "<Figure size 432x288 with 1 Axes>"
            ]
          },
          "metadata": {
            "tags": [],
            "needs_background": "light"
          }
        },
        {
          "output_type": "stream",
          "text": [
            "predicted label: [0.00168347]\n",
            "actual label: 0\n",
            "The image is correctly classified\n"
          ],
          "name": "stdout"
        },
        {
          "output_type": "display_data",
          "data": {
            "image/png": "[encoded data removed]",
            "text/plain": [
              "<Figure size 432x288 with 1 Axes>"
            ]
          },
          "metadata": {
            "tags": [],
            "needs_background": "light"
          }
        },
        {
          "output_type": "stream",
          "text": [
            "predicted label: [0.9598762]\n",
            "actual label: 1\n",
            "The image is correctly classified\n"
          ],
          "name": "stdout"
        },
        {
          "output_type": "display_data",
          "data": {
            "image/png": "[encoded data removed]",
            "text/plain": [
              "<Figure size 432x288 with 1 Axes>"
            ]
          },
          "metadata": {
            "tags": [],
            "needs_background": "light"
          }
        },
        {
          "output_type": "stream",
          "text": [
            "predicted label: [0.9834347]\n",
            "actual label: 1\n",
            "The image is correctly classified\n"
          ],
          "name": "stdout"
        },
        {
          "output_type": "display_data",
          "data": {
            "image/png": "[encoded data removed]",
            "text/plain": [
              "<Figure size 432x288 with 1 Axes>"
            ]
          },
          "metadata": {
            "tags": [],
            "needs_background": "light"
          }
        },
        {
          "output_type": "stream",
          "text": [
            "predicted label: [0.00190142]\n",
            "actual label: 0\n",
            "The image is correctly classified\n"
          ],
          "name": "stdout"
        },
        {
          "output_type": "display_data",
          "data": {
            "image/png": "[encoded data removed]",
            "text/plain": [
              "<Figure size 432x288 with 1 Axes>"
            ]
          },
          "metadata": {
            "tags": [],
            "needs_background": "light"
          }
        },
        {
          "output_type": "stream",
          "text": [
            "predicted label: [0.32922888]\n",
            "actual label: 0\n",
            "The image is correctly classified\n"
          ],
          "name": "stdout"
        },
        {
          "output_type": "display_data",
          "data": {
            "image/png": "[encoded data removed]",
            "text/plain": [
              "<Figure size 432x288 with 1 Axes>"
            ]
          },
          "metadata": {
            "tags": [],
            "needs_background": "light"
          }
        },
        {
          "output_type": "stream",
          "text": [
            "predicted label: [0.9672542]\n",
            "actual label: 1\n",
            "The image is correctly classified\n"
          ],
          "name": "stdout"
        },
        {
          "output_type": "display_data",
          "data": {
            "image/png": "[encoded data removed]",
            "text/plain": [
              "<Figure size 432x288 with 1 Axes>"
            ]
          },
          "metadata": {
            "tags": [],
            "needs_background": "light"
          }
        },
        {
          "output_type": "stream",
          "text": [
            "predicted label: [0.03654039]\n",
            "actual label: 0\n",
            "The image is correctly classified\n"
          ],
          "name": "stdout"
        },
        {
          "output_type": "display_data",
          "data": {
            "image/png": "[encoded data removed]",
            "text/plain": [
              "<Figure size 432x288 with 1 Axes>"
            ]
          },
          "metadata": {
            "tags": [],
            "needs_background": "light"
          }
        },
        {
          "output_type": "stream",
          "text": [
            "predicted label: [0.9393668]\n",
            "actual label: 1\n",
            "The image is correctly classified\n"
          ],
          "name": "stdout"
        },
        {
          "output_type": "display_data",
          "data": {
            "image/png": "[encoded data removed]",
            "text/plain": [
              "<Figure size 432x288 with 1 Axes>"
            ]
          },
          "metadata": {
            "tags": [],
            "needs_background": "light"
          }
        },
        {
          "output_type": "stream",
          "text": [
            "predicted label: [0.98870647]\n",
            "actual label: 1\n",
            "The image is correctly classified\n"
          ],
          "name": "stdout"
        },
        {
          "output_type": "display_data",
          "data": {
            "image/png": "[encoded data removed]",
            "text/plain": [
              "<Figure size 432x288 with 1 Axes>"
            ]
          },
          "metadata": {
            "tags": [],
            "needs_background": "light"
          }
        },
        {
          "output_type": "stream",
          "text": [
            "predicted label: [0.01542047]\n",
            "actual label: 0\n",
            "The image is correctly classified\n"
          ],
          "name": "stdout"
        }
      ]
    },
    {
      "cell_type": "code",
      "metadata": {
        "colab": {
          "base_uri": "https://localhost:8080/"
        },
        "id": "JTygqkKuzZIH",
        "outputId": "b42b0625-c5d7-45d8-9012-4ea4d49fd833"
      },
      "source": [
        "#experiment cnn 1\n",
        "#modifying the above code\n",
        "\n",
        "import tensorflow as tf\n",
        "from tensorflow.keras.models import Sequential\n",
        "from tensorflow.keras.layers import Dense, Dropout, Activation, Flatten, Conv2D, MaxPooling2D\n",
        "from tensorflow.keras.callbacks import EarlyStopping\n",
        "from sklearn.model_selection import train_test_split\n",
        "\n",
        "x_train, x_test, y_train, y_test = train_test_split(X, Y, test_size = 0.2, random_state=42)\n",
        "callback = EarlyStopping(monitor='val_loss', patience=5)\n",
        "\n",
        "model = Sequential()\n",
        "\n",
        "model.add(Conv2D(64,(3,3),input_shape=X.shape[1:]))\n",
        "model.add(Activation(\"relu\"))\n",
        "model.add(MaxPooling2D(pool_size=(2,2)))\n",
        "\n",
        "model.add(Conv2D(64,(3,3)))\n",
        "model.add(Activation(\"relu\"))\n",
        "model.add(MaxPooling2D(pool_size=(2,2)))\n",
        "\n",
        "model.add(Conv2D(128,(3,3)))\n",
        "model.add(Activation(\"relu\"))\n",
        "model.add(MaxPooling2D(pool_size=(2,2)))\n",
        "\n",
        "model.add(Conv2D(128,(3,3)))\n",
        "model.add(Activation(\"relu\"))\n",
        "model.add(MaxPooling2D(pool_size=(2,2)))\n",
        "\n",
        "model.add(Flatten())\n",
        "model.add(Dense(128))\n",
        "\n",
        "model.add(Dropout(0.2))\n",
        "model.add(Dense(1))\n",
        "model.add(Activation('sigmoid'))\n",
        "\n",
        "model.compile(loss=\"mean_squared_error\",\n",
        "              optimizer=\"adam\",\n",
        "              metrics=['accuracy'])\n",
        "\n",
        "model.fit(x_train, y_train,batch_size=12,epochs=55,validation_data=(x_test,y_test),verbose=2)"
      ],
      "execution_count": 11,
      "outputs": [
        {
          "output_type": "stream",
          "text": [
            "Epoch 1/55\n",
            "5/5 - 1s - loss: 0.2611 - accuracy: 0.3585 - val_loss: 0.2467 - val_accuracy: 0.5714\n",
            "Epoch 2/55\n",
            "5/5 - 0s - loss: 0.2518 - accuracy: 0.4528 - val_loss: 0.2460 - val_accuracy: 0.5714\n",
            "Epoch 3/55\n",
            "5/5 - 0s - loss: 0.2497 - accuracy: 0.5472 - val_loss: 0.2475 - val_accuracy: 1.0000\n",
            "Epoch 4/55\n",
            "5/5 - 0s - loss: 0.2479 - accuracy: 0.5660 - val_loss: 0.2453 - val_accuracy: 1.0000\n",
            "Epoch 5/55\n",
            "5/5 - 0s - loss: 0.2488 - accuracy: 0.5283 - val_loss: 0.2458 - val_accuracy: 0.4286\n",
            "Epoch 6/55\n",
            "5/5 - 0s - loss: 0.2498 - accuracy: 0.5283 - val_loss: 0.2501 - val_accuracy: 0.4286\n",
            "Epoch 7/55\n",
            "5/5 - 0s - loss: 0.2407 - accuracy: 0.6415 - val_loss: 0.2247 - val_accuracy: 1.0000\n",
            "Epoch 8/55\n",
            "5/5 - 0s - loss: 0.2213 - accuracy: 0.9057 - val_loss: 0.1827 - val_accuracy: 1.0000\n",
            "Epoch 9/55\n",
            "5/5 - 0s - loss: 0.1750 - accuracy: 0.9245 - val_loss: 0.0947 - val_accuracy: 1.0000\n",
            "Epoch 10/55\n",
            "5/5 - 0s - loss: 0.0968 - accuracy: 0.9623 - val_loss: 0.0379 - val_accuracy: 1.0000\n",
            "Epoch 11/55\n",
            "5/5 - 0s - loss: 0.0647 - accuracy: 0.9245 - val_loss: 0.0278 - val_accuracy: 1.0000\n",
            "Epoch 12/55\n",
            "5/5 - 0s - loss: 0.0269 - accuracy: 0.9811 - val_loss: 0.0185 - val_accuracy: 1.0000\n",
            "Epoch 13/55\n",
            "5/5 - 0s - loss: 0.0157 - accuracy: 1.0000 - val_loss: 0.0098 - val_accuracy: 1.0000\n",
            "Epoch 14/55\n",
            "5/5 - 0s - loss: 0.0090 - accuracy: 1.0000 - val_loss: 0.0044 - val_accuracy: 1.0000\n",
            "Epoch 15/55\n",
            "5/5 - 0s - loss: 0.0092 - accuracy: 1.0000 - val_loss: 0.0156 - val_accuracy: 1.0000\n",
            "Epoch 16/55\n",
            "5/5 - 0s - loss: 0.0048 - accuracy: 1.0000 - val_loss: 0.0143 - val_accuracy: 1.0000\n",
            "Epoch 17/55\n",
            "5/5 - 0s - loss: 0.0035 - accuracy: 1.0000 - val_loss: 0.0150 - val_accuracy: 1.0000\n",
            "Epoch 18/55\n",
            "5/5 - 0s - loss: 0.0022 - accuracy: 1.0000 - val_loss: 0.0110 - val_accuracy: 1.0000\n",
            "Epoch 19/55\n",
            "5/5 - 0s - loss: 0.0014 - accuracy: 1.0000 - val_loss: 0.0083 - val_accuracy: 1.0000\n",
            "Epoch 20/55\n",
            "5/5 - 0s - loss: 0.0010 - accuracy: 1.0000 - val_loss: 0.0101 - val_accuracy: 1.0000\n",
            "Epoch 21/55\n",
            "5/5 - 0s - loss: 7.6422e-04 - accuracy: 1.0000 - val_loss: 0.0109 - val_accuracy: 1.0000\n",
            "Epoch 22/55\n",
            "5/5 - 0s - loss: 3.6205e-04 - accuracy: 1.0000 - val_loss: 0.0127 - val_accuracy: 1.0000\n",
            "Epoch 23/55\n",
            "5/5 - 0s - loss: 4.3644e-04 - accuracy: 1.0000 - val_loss: 0.0164 - val_accuracy: 1.0000\n",
            "Epoch 24/55\n",
            "5/5 - 0s - loss: 2.4603e-04 - accuracy: 1.0000 - val_loss: 0.0205 - val_accuracy: 0.9286\n",
            "Epoch 25/55\n",
            "5/5 - 0s - loss: 4.4456e-04 - accuracy: 1.0000 - val_loss: 0.0190 - val_accuracy: 0.9286\n",
            "Epoch 26/55\n",
            "5/5 - 0s - loss: 1.0023e-04 - accuracy: 1.0000 - val_loss: 0.0153 - val_accuracy: 1.0000\n",
            "Epoch 27/55\n",
            "5/5 - 0s - loss: 2.0278e-04 - accuracy: 1.0000 - val_loss: 0.0150 - val_accuracy: 1.0000\n",
            "Epoch 28/55\n",
            "5/5 - 0s - loss: 1.8794e-04 - accuracy: 1.0000 - val_loss: 0.0153 - val_accuracy: 1.0000\n",
            "Epoch 29/55\n",
            "5/5 - 0s - loss: 7.0840e-05 - accuracy: 1.0000 - val_loss: 0.0159 - val_accuracy: 1.0000\n",
            "Epoch 30/55\n",
            "5/5 - 0s - loss: 3.5584e-04 - accuracy: 1.0000 - val_loss: 0.0124 - val_accuracy: 1.0000\n",
            "Epoch 31/55\n",
            "5/5 - 0s - loss: 9.8123e-05 - accuracy: 1.0000 - val_loss: 0.0080 - val_accuracy: 1.0000\n",
            "Epoch 32/55\n",
            "5/5 - 0s - loss: 2.1957e-04 - accuracy: 1.0000 - val_loss: 0.0109 - val_accuracy: 1.0000\n",
            "Epoch 33/55\n",
            "5/5 - 0s - loss: 1.2903e-04 - accuracy: 1.0000 - val_loss: 0.0130 - val_accuracy: 1.0000\n",
            "Epoch 34/55\n",
            "5/5 - 0s - loss: 5.8855e-05 - accuracy: 1.0000 - val_loss: 0.0142 - val_accuracy: 1.0000\n",
            "Epoch 35/55\n",
            "5/5 - 0s - loss: 9.3668e-05 - accuracy: 1.0000 - val_loss: 0.0153 - val_accuracy: 1.0000\n",
            "Epoch 36/55\n",
            "5/5 - 0s - loss: 1.8659e-04 - accuracy: 1.0000 - val_loss: 0.0172 - val_accuracy: 1.0000\n",
            "Epoch 37/55\n",
            "5/5 - 0s - loss: 4.2259e-05 - accuracy: 1.0000 - val_loss: 0.0189 - val_accuracy: 0.9286\n",
            "Epoch 38/55\n",
            "5/5 - 0s - loss: 9.7280e-05 - accuracy: 1.0000 - val_loss: 0.0184 - val_accuracy: 0.9286\n",
            "Epoch 39/55\n",
            "5/5 - 0s - loss: 4.6679e-05 - accuracy: 1.0000 - val_loss: 0.0170 - val_accuracy: 1.0000\n",
            "Epoch 40/55\n",
            "5/5 - 0s - loss: 6.5139e-05 - accuracy: 1.0000 - val_loss: 0.0158 - val_accuracy: 1.0000\n",
            "Epoch 41/55\n",
            "5/5 - 0s - loss: 7.2648e-05 - accuracy: 1.0000 - val_loss: 0.0155 - val_accuracy: 1.0000\n",
            "Epoch 42/55\n",
            "5/5 - 0s - loss: 3.9866e-05 - accuracy: 1.0000 - val_loss: 0.0160 - val_accuracy: 1.0000\n",
            "Epoch 43/55\n",
            "5/5 - 0s - loss: 4.7680e-05 - accuracy: 1.0000 - val_loss: 0.0177 - val_accuracy: 1.0000\n",
            "Epoch 44/55\n",
            "5/5 - 0s - loss: 3.9170e-05 - accuracy: 1.0000 - val_loss: 0.0190 - val_accuracy: 0.9286\n",
            "Epoch 45/55\n",
            "5/5 - 0s - loss: 1.9724e-05 - accuracy: 1.0000 - val_loss: 0.0197 - val_accuracy: 0.9286\n",
            "Epoch 46/55\n",
            "5/5 - 0s - loss: 2.2195e-05 - accuracy: 1.0000 - val_loss: 0.0198 - val_accuracy: 0.9286\n",
            "Epoch 47/55\n",
            "5/5 - 0s - loss: 3.4219e-05 - accuracy: 1.0000 - val_loss: 0.0200 - val_accuracy: 0.9286\n",
            "Epoch 48/55\n",
            "5/5 - 0s - loss: 2.3276e-05 - accuracy: 1.0000 - val_loss: 0.0201 - val_accuracy: 0.9286\n",
            "Epoch 49/55\n",
            "5/5 - 0s - loss: 1.2797e-05 - accuracy: 1.0000 - val_loss: 0.0198 - val_accuracy: 0.9286\n",
            "Epoch 50/55\n",
            "5/5 - 0s - loss: 3.8568e-05 - accuracy: 1.0000 - val_loss: 0.0200 - val_accuracy: 0.9286\n",
            "Epoch 51/55\n",
            "5/5 - 0s - loss: 2.6510e-05 - accuracy: 1.0000 - val_loss: 0.0207 - val_accuracy: 0.9286\n",
            "Epoch 52/55\n",
            "5/5 - 0s - loss: 8.4341e-06 - accuracy: 1.0000 - val_loss: 0.0213 - val_accuracy: 0.9286\n",
            "Epoch 53/55\n",
            "5/5 - 0s - loss: 2.6102e-05 - accuracy: 1.0000 - val_loss: 0.0213 - val_accuracy: 0.9286\n",
            "Epoch 54/55\n",
            "5/5 - 0s - loss: 2.8834e-05 - accuracy: 1.0000 - val_loss: 0.0209 - val_accuracy: 0.9286\n",
            "Epoch 55/55\n",
            "5/5 - 0s - loss: 2.0427e-05 - accuracy: 1.0000 - val_loss: 0.0198 - val_accuracy: 0.9286\n"
          ],
          "name": "stdout"
        },
        {
          "output_type": "execute_result",
          "data": {
            "text/plain": [
              "<tensorflow.python.keras.callbacks.History at 0x7fec3b566650>"
            ]
          },
          "metadata": {
            "tags": []
          },
          "execution_count": 11
        }
      ]
    },
    {
      "cell_type": "code",
      "metadata": {
        "colab": {
          "base_uri": "https://localhost:8080/",
          "height": 1000
        },
        "id": "Z-Xx8XkHVHfg",
        "outputId": "45233f92-edc1-4b49-915e-d06c1913f3f2"
      },
      "source": [
        "#This codeblock runs cnn1\n",
        "\n",
        "import matplotlib.pyplot as plt\n",
        "arr = model.predict(x_test)\n",
        "print(len(arr))\n",
        "for count in range(len(arr)):\n",
        "  plt.imshow(x_test[count].reshape(50,50))\n",
        "  plt.show()\n",
        "  predicted = arr[count]\n",
        "  actual = y_test[count]\n",
        "  print(\"predicted label:\",predicted)\n",
        "  print(\"actual label:\",actual)\n",
        "  if((actual==0 and (predicted<=0.5 and predicted>=0)) or (actual==1 and (predicted>=0.5 and predicted<=1))):\n",
        "    print(\"The image is correctly classified\")\n",
        "  else:\n",
        "    print(\"The image is misclassified\")"
      ],
      "execution_count": 13,
      "outputs": [
        {
          "output_type": "stream",
          "text": [
            "14\n"
          ],
          "name": "stdout"
        },
        {
          "output_type": "display_data",
          "data": {
            "image/png": "[encoded data removed]",
            "text/plain": [
              "<Figure size 432x288 with 1 Axes>"
            ]
          },
          "metadata": {
            "tags": [],
            "needs_background": "light"
          }
        },
        {
          "output_type": "stream",
          "text": [
            "predicted label: [0.9999801]\n",
            "actual label: 1\n",
            "The image is correctly classified\n"
          ],
          "name": "stdout"
        },
        {
          "output_type": "display_data",
          "data": {
            "image/png": "[encoded data removed]",
            "text/plain": [
              "<Figure size 432x288 with 1 Axes>"
            ]
          },
          "metadata": {
            "tags": [],
            "needs_background": "light"
          }
        },
        {
          "output_type": "stream",
          "text": [
            "predicted label: [1.]\n",
            "actual label: 1\n",
            "The image is correctly classified\n"
          ],
          "name": "stdout"
        },
        {
          "output_type": "display_data",
          "data": {
            "image/png": "[encoded data removed]",
            "text/plain": [
              "<Figure size 432x288 with 1 Axes>"
            ]
          },
          "metadata": {
            "tags": [],
            "needs_background": "light"
          }
        },
        {
          "output_type": "stream",
          "text": [
            "predicted label: [0.99999726]\n",
            "actual label: 1\n",
            "The image is correctly classified\n"
          ],
          "name": "stdout"
        },
        {
          "output_type": "display_data",
          "data": {
            "image/png": "[encoded data removed]",
            "text/plain": [
              "<Figure size 432x288 with 1 Axes>"
            ]
          },
          "metadata": {
            "tags": [],
            "needs_background": "light"
          }
        },
        {
          "output_type": "stream",
          "text": [
            "predicted label: [0.5261645]\n",
            "actual label: 0\n",
            "The image is misclassified\n"
          ],
          "name": "stdout"
        },
        {
          "output_type": "display_data",
          "data": {
            "image/png": "[encoded data removed]",
            "text/plain": [
              "<Figure size 432x288 with 1 Axes>"
            ]
          },
          "metadata": {
            "tags": [],
            "needs_background": "light"
          }
        },
        {
          "output_type": "stream",
          "text": [
            "predicted label: [5.860942e-08]\n",
            "actual label: 0\n",
            "The image is correctly classified\n"
          ],
          "name": "stdout"
        },
        {
          "output_type": "display_data",
          "data": {
            "image/png": "[encoded data removed]",
            "text/plain": [
              "<Figure size 432x288 with 1 Axes>"
            ]
          },
          "metadata": {
            "tags": [],
            "needs_background": "light"
          }
        },
        {
          "output_type": "stream",
          "text": [
            "predicted label: [0.9999896]\n",
            "actual label: 1\n",
            "The image is correctly classified\n"
          ],
          "name": "stdout"
        },
        {
          "output_type": "display_data",
          "data": {
            "image/png": "[encoded data removed]",
            "text/plain": [
              "<Figure size 432x288 with 1 Axes>"
            ]
          },
          "metadata": {
            "tags": [],
            "needs_background": "light"
          }
        },
        {
          "output_type": "stream",
          "text": [
            "predicted label: [0.9999957]\n",
            "actual label: 1\n",
            "The image is correctly classified\n"
          ],
          "name": "stdout"
        },
        {
          "output_type": "display_data",
          "data": {
            "image/png": "[encoded data removed]",
            "text/plain": [
              "<Figure size 432x288 with 1 Axes>"
            ]
          },
          "metadata": {
            "tags": [],
            "needs_background": "light"
          }
        },
        {
          "output_type": "stream",
          "text": [
            "predicted label: [6.2841976e-10]\n",
            "actual label: 0\n",
            "The image is correctly classified\n"
          ],
          "name": "stdout"
        },
        {
          "output_type": "display_data",
          "data": {
            "image/png": "[encoded data removed]",
            "text/plain": [
              "<Figure size 432x288 with 1 Axes>"
            ]
          },
          "metadata": {
            "tags": [],
            "needs_background": "light"
          }
        },
        {
          "output_type": "stream",
          "text": [
            "predicted label: [0.00074524]\n",
            "actual label: 0\n",
            "The image is correctly classified\n"
          ],
          "name": "stdout"
        },
        {
          "output_type": "display_data",
          "data": {
            "image/png": "[encoded data removed]",
            "text/plain": [
              "<Figure size 432x288 with 1 Axes>"
            ]
          },
          "metadata": {
            "tags": [],
            "needs_background": "light"
          }
        },
        {
          "output_type": "stream",
          "text": [
            "predicted label: [0.9999956]\n",
            "actual label: 1\n",
            "The image is correctly classified\n"
          ],
          "name": "stdout"
        },
        {
          "output_type": "display_data",
          "data": {
            "image/png": "[encoded data removed]",
            "text/plain": [
              "<Figure size 432x288 with 1 Axes>"
            ]
          },
          "metadata": {
            "tags": [],
            "needs_background": "light"
          }
        },
        {
          "output_type": "stream",
          "text": [
            "predicted label: [8.762326e-08]\n",
            "actual label: 0\n",
            "The image is correctly classified\n"
          ],
          "name": "stdout"
        },
        {
          "output_type": "display_data",
          "data": {
            "image/png": "[encoded data removed]",
            "text/plain": [
              "<Figure size 432x288 with 1 Axes>"
            ]
          },
          "metadata": {
            "tags": [],
            "needs_background": "light"
          }
        },
        {
          "output_type": "stream",
          "text": [
            "predicted label: [1.]\n",
            "actual label: 1\n",
            "The image is correctly classified\n"
          ],
          "name": "stdout"
        },
        {
          "output_type": "display_data",
          "data": {
            "image/png": "[encoded data removed]",
            "text/plain": [
              "<Figure size 432x288 with 1 Axes>"
            ]
          },
          "metadata": {
            "tags": [],
            "needs_background": "light"
          }
        },
        {
          "output_type": "stream",
          "text": [
            "predicted label: [1.]\n",
            "actual label: 1\n",
            "The image is correctly classified\n"
          ],
          "name": "stdout"
        },
        {
          "output_type": "display_data",
          "data": {
            "image/png": "[encoded data removed]",
            "text/plain": [
              "<Figure size 432x288 with 1 Axes>"
            ]
          },
          "metadata": {
            "tags": [],
            "needs_background": "light"
          }
        },
        {
          "output_type": "stream",
          "text": [
            "predicted label: [1.3475444e-05]\n",
            "actual label: 0\n",
            "The image is correctly classified\n"
          ],
          "name": "stdout"
        }
      ]
    },
    {
      "cell_type": "code",
      "metadata": {
        "colab": {
          "base_uri": "https://localhost:8080/"
        },
        "id": "KqIM5szP6d_u",
        "outputId": "daf72543-4bce-4516-b269-e8fce4b2f040"
      },
      "source": [
        "#experiment cnn 2\n",
        "#idea from lecture slide 24\n",
        "\n",
        "import tensorflow as tf\n",
        "from tensorflow.keras.models import Sequential\n",
        "from tensorflow.keras.layers import Dense, Dropout, Activation, Flatten, Conv2D, MaxPooling2D\n",
        "from tensorflow.keras.callbacks import EarlyStopping\n",
        "from sklearn.model_selection import train_test_split\n",
        "\n",
        "x_train, x_test, y_train, y_test = train_test_split(X, Y, test_size = 0.2, random_state=42)\n",
        "callback = EarlyStopping(monitor='val_loss', patience=5)\n",
        "\n",
        "model = Sequential()\n",
        "\n",
        "model.add(Conv2D(64,(3,3),input_shape=X.shape[1:]))\n",
        "model.add(Activation(\"relu\"))\n",
        "model.add(MaxPooling2D(pool_size=(2,2)))\n",
        "\n",
        "model.add(Conv2D(64,(3,3)))\n",
        "model.add(Activation(\"relu\"))\n",
        "model.add(MaxPooling2D(pool_size=(2,2)))\n",
        "\n",
        "model.add(Conv2D(128,(3,3)))\n",
        "model.add(Dense(20,activation = 'softmax'))\n",
        "model.add(Dense(200,activation = 'relu'))\n",
        "#model.add(Dense(200,activation = 'relu'))\n",
        "\n",
        "model.add(Dropout(0.2))\n",
        "model.add(Flatten())\n",
        "model.add(Dense(1))\n",
        "model.add(Activation('sigmoid'))\n",
        "\n",
        "model.compile(loss=\"binary_crossentropy\",\n",
        "              optimizer=\"adam\",metrics=['accuracy'])\n",
        "\n",
        "model.fit(x_train, y_train,batch_size=20,epochs=30,validation_data=(x_test,y_test),verbose=2)"
      ],
      "execution_count": 14,
      "outputs": [
        {
          "output_type": "stream",
          "text": [
            "Epoch 1/30\n",
            "3/3 - 1s - loss: 0.7020 - accuracy: 0.4340 - val_loss: 0.6998 - val_accuracy: 0.4286\n",
            "Epoch 2/30\n",
            "3/3 - 0s - loss: 0.6949 - accuracy: 0.4528 - val_loss: 0.6923 - val_accuracy: 0.5714\n",
            "Epoch 3/30\n",
            "3/3 - 0s - loss: 0.6926 - accuracy: 0.4906 - val_loss: 0.6925 - val_accuracy: 0.4286\n",
            "Epoch 4/30\n",
            "3/3 - 0s - loss: 0.6933 - accuracy: 0.5660 - val_loss: 0.6918 - val_accuracy: 0.4286\n",
            "Epoch 5/30\n",
            "3/3 - 0s - loss: 0.6910 - accuracy: 0.5283 - val_loss: 0.6809 - val_accuracy: 1.0000\n",
            "Epoch 6/30\n",
            "3/3 - 0s - loss: 0.6817 - accuracy: 0.6792 - val_loss: 0.6553 - val_accuracy: 1.0000\n",
            "Epoch 7/30\n",
            "3/3 - 0s - loss: 0.6634 - accuracy: 0.8302 - val_loss: 0.6156 - val_accuracy: 1.0000\n",
            "Epoch 8/30\n",
            "3/3 - 0s - loss: 0.6274 - accuracy: 0.8679 - val_loss: 0.5836 - val_accuracy: 1.0000\n",
            "Epoch 9/30\n",
            "3/3 - 0s - loss: 0.5947 - accuracy: 0.9057 - val_loss: 0.5124 - val_accuracy: 1.0000\n",
            "Epoch 10/30\n",
            "3/3 - 0s - loss: 0.5387 - accuracy: 0.8868 - val_loss: 0.4588 - val_accuracy: 1.0000\n",
            "Epoch 11/30\n",
            "3/3 - 0s - loss: 0.4934 - accuracy: 0.9434 - val_loss: 0.3801 - val_accuracy: 1.0000\n",
            "Epoch 12/30\n",
            "3/3 - 0s - loss: 0.4400 - accuracy: 0.9245 - val_loss: 0.3229 - val_accuracy: 1.0000\n",
            "Epoch 13/30\n",
            "3/3 - 0s - loss: 0.3839 - accuracy: 0.9811 - val_loss: 0.2565 - val_accuracy: 1.0000\n",
            "Epoch 14/30\n",
            "3/3 - 0s - loss: 0.3312 - accuracy: 0.9811 - val_loss: 0.1873 - val_accuracy: 1.0000\n",
            "Epoch 15/30\n",
            "3/3 - 0s - loss: 0.2755 - accuracy: 1.0000 - val_loss: 0.1505 - val_accuracy: 1.0000\n",
            "Epoch 16/30\n",
            "3/3 - 0s - loss: 0.2244 - accuracy: 1.0000 - val_loss: 0.1044 - val_accuracy: 1.0000\n",
            "Epoch 17/30\n",
            "3/3 - 0s - loss: 0.1891 - accuracy: 1.0000 - val_loss: 0.0791 - val_accuracy: 1.0000\n",
            "Epoch 18/30\n",
            "3/3 - 0s - loss: 0.1540 - accuracy: 1.0000 - val_loss: 0.0525 - val_accuracy: 1.0000\n",
            "Epoch 19/30\n",
            "3/3 - 0s - loss: 0.1267 - accuracy: 1.0000 - val_loss: 0.0431 - val_accuracy: 1.0000\n",
            "Epoch 20/30\n",
            "3/3 - 0s - loss: 0.0947 - accuracy: 1.0000 - val_loss: 0.0351 - val_accuracy: 1.0000\n",
            "Epoch 21/30\n",
            "3/3 - 0s - loss: 0.0740 - accuracy: 1.0000 - val_loss: 0.0252 - val_accuracy: 1.0000\n",
            "Epoch 22/30\n",
            "3/3 - 0s - loss: 0.0588 - accuracy: 1.0000 - val_loss: 0.0221 - val_accuracy: 1.0000\n",
            "Epoch 23/30\n",
            "3/3 - 0s - loss: 0.0447 - accuracy: 1.0000 - val_loss: 0.0210 - val_accuracy: 1.0000\n",
            "Epoch 24/30\n",
            "3/3 - 0s - loss: 0.0364 - accuracy: 1.0000 - val_loss: 0.0142 - val_accuracy: 1.0000\n",
            "Epoch 25/30\n",
            "3/3 - 0s - loss: 0.0271 - accuracy: 1.0000 - val_loss: 0.0128 - val_accuracy: 1.0000\n",
            "Epoch 26/30\n",
            "3/3 - 0s - loss: 0.0200 - accuracy: 1.0000 - val_loss: 0.0158 - val_accuracy: 1.0000\n",
            "Epoch 27/30\n",
            "3/3 - 0s - loss: 0.0180 - accuracy: 1.0000 - val_loss: 0.0112 - val_accuracy: 1.0000\n",
            "Epoch 28/30\n",
            "3/3 - 0s - loss: 0.0159 - accuracy: 1.0000 - val_loss: 0.0104 - val_accuracy: 1.0000\n",
            "Epoch 29/30\n",
            "3/3 - 0s - loss: 0.0126 - accuracy: 1.0000 - val_loss: 0.0101 - val_accuracy: 1.0000\n",
            "Epoch 30/30\n",
            "3/3 - 0s - loss: 0.0103 - accuracy: 1.0000 - val_loss: 0.0082 - val_accuracy: 1.0000\n"
          ],
          "name": "stdout"
        },
        {
          "output_type": "execute_result",
          "data": {
            "text/plain": [
              "<tensorflow.python.keras.callbacks.History at 0x7fec3a264910>"
            ]
          },
          "metadata": {
            "tags": []
          },
          "execution_count": 14
        }
      ]
    },
    {
      "cell_type": "code",
      "metadata": {
        "colab": {
          "base_uri": "https://localhost:8080/",
          "height": 1000
        },
        "id": "rw1o5WJf9qRB",
        "outputId": "d7a1462c-9081-45e1-d51a-501c74bfc537"
      },
      "source": [
        "#part j) images can be misclassified due to overfitting\n",
        "#overfitting occurs when weights become too specific to a particular set of data\n",
        "#the neural network becomes overaccurate due to which it does not fit well to the test data\n",
        "\n",
        "#This codeblock runs cnn2\n",
        "\n",
        "import matplotlib.pyplot as plt\n",
        "arr = model.predict(x_test)\n",
        "print(len(arr))\n",
        "for count in range(len(arr)):\n",
        "  plt.imshow(x_test[count].reshape(50,50))\n",
        "  plt.show()\n",
        "  predicted = arr[count]\n",
        "  actual = y_test[count]\n",
        "  print(\"predicted label:\",predicted)\n",
        "  print(\"actual label:\",actual)\n",
        "  if((actual==0 and (predicted<=0.5 and predicted>=0)) or (actual==1 and (predicted>=0.5 and predicted<=1))):\n",
        "    print(\"The image is correctly classified\")\n",
        "  else:\n",
        "    print(\"The image is misclassified\")"
      ],
      "execution_count": 15,
      "outputs": [
        {
          "output_type": "stream",
          "text": [
            "14\n"
          ],
          "name": "stdout"
        },
        {
          "output_type": "display_data",
          "data": {
            "image/png": "[encoded data removed]",
            "text/plain": [
              "<Figure size 432x288 with 1 Axes>"
            ]
          },
          "metadata": {
            "tags": [],
            "needs_background": "light"
          }
        },
        {
          "output_type": "stream",
          "text": [
            "predicted label: [0.98749113]\n",
            "actual label: 1\n",
            "The image is correctly classified\n"
          ],
          "name": "stdout"
        },
        {
          "output_type": "display_data",
          "data": {
            "image/png": "[encoded data removed]",
            "text/plain": [
              "<Figure size 432x288 with 1 Axes>"
            ]
          },
          "metadata": {
            "tags": [],
            "needs_background": "light"
          }
        },
        {
          "output_type": "stream",
          "text": [
            "predicted label: [0.9995672]\n",
            "actual label: 1\n",
            "The image is correctly classified\n"
          ],
          "name": "stdout"
        },
        {
          "output_type": "display_data",
          "data": {
            "image/png": "[encoded data removed]",
            "text/plain": [
              "<Figure size 432x288 with 1 Axes>"
            ]
          },
          "metadata": {
            "tags": [],
            "needs_background": "light"
          }
        },
        {
          "output_type": "stream",
          "text": [
            "predicted label: [0.99237156]\n",
            "actual label: 1\n",
            "The image is correctly classified\n"
          ],
          "name": "stdout"
        },
        {
          "output_type": "display_data",
          "data": {
            "image/png": "[encoded data removed]",
            "text/plain": [
              "<Figure size 432x288 with 1 Axes>"
            ]
          },
          "metadata": {
            "tags": [],
            "needs_background": "light"
          }
        },
        {
          "output_type": "stream",
          "text": [
            "predicted label: [0.08807969]\n",
            "actual label: 0\n",
            "The image is correctly classified\n"
          ],
          "name": "stdout"
        },
        {
          "output_type": "display_data",
          "data": {
            "image/png": "[encoded data removed]",
            "text/plain": [
              "<Figure size 432x288 with 1 Axes>"
            ]
          },
          "metadata": {
            "tags": [],
            "needs_background": "light"
          }
        },
        {
          "output_type": "stream",
          "text": [
            "predicted label: [1.0070508e-05]\n",
            "actual label: 0\n",
            "The image is correctly classified\n"
          ],
          "name": "stdout"
        },
        {
          "output_type": "display_data",
          "data": {
            "image/png": "[encoded data removed]",
            "text/plain": [
              "<Figure size 432x288 with 1 Axes>"
            ]
          },
          "metadata": {
            "tags": [],
            "needs_background": "light"
          }
        },
        {
          "output_type": "stream",
          "text": [
            "predicted label: [0.9997409]\n",
            "actual label: 1\n",
            "The image is correctly classified\n"
          ],
          "name": "stdout"
        },
        {
          "output_type": "display_data",
          "data": {
            "image/png": "[encoded data removed]",
            "text/plain": [
              "<Figure size 432x288 with 1 Axes>"
            ]
          },
          "metadata": {
            "tags": [],
            "needs_background": "light"
          }
        },
        {
          "output_type": "stream",
          "text": [
            "predicted label: [0.9995942]\n",
            "actual label: 1\n",
            "The image is correctly classified\n"
          ],
          "name": "stdout"
        },
        {
          "output_type": "display_data",
          "data": {
            "image/png": "[encoded data removed]",
            "text/plain": [
              "<Figure size 432x288 with 1 Axes>"
            ]
          },
          "metadata": {
            "tags": [],
            "needs_background": "light"
          }
        },
        {
          "output_type": "stream",
          "text": [
            "predicted label: [5.1137914e-07]\n",
            "actual label: 0\n",
            "The image is correctly classified\n"
          ],
          "name": "stdout"
        },
        {
          "output_type": "display_data",
          "data": {
            "image/png": "[encoded data removed]",
            "text/plain": [
              "<Figure size 432x288 with 1 Axes>"
            ]
          },
          "metadata": {
            "tags": [],
            "needs_background": "light"
          }
        },
        {
          "output_type": "stream",
          "text": [
            "predicted label: [4.1841293e-05]\n",
            "actual label: 0\n",
            "The image is correctly classified\n"
          ],
          "name": "stdout"
        },
        {
          "output_type": "display_data",
          "data": {
            "image/png": "[encoded data removed]",
            "text/plain": [
              "<Figure size 432x288 with 1 Axes>"
            ]
          },
          "metadata": {
            "tags": [],
            "needs_background": "light"
          }
        },
        {
          "output_type": "stream",
          "text": [
            "predicted label: [0.9996538]\n",
            "actual label: 1\n",
            "The image is correctly classified\n"
          ],
          "name": "stdout"
        },
        {
          "output_type": "display_data",
          "data": {
            "image/png": "[encoded data removed]",
            "text/plain": [
              "<Figure size 432x288 with 1 Axes>"
            ]
          },
          "metadata": {
            "tags": [],
            "needs_background": "light"
          }
        },
        {
          "output_type": "stream",
          "text": [
            "predicted label: [1.2272363e-05]\n",
            "actual label: 0\n",
            "The image is correctly classified\n"
          ],
          "name": "stdout"
        },
        {
          "output_type": "display_data",
          "data": {
            "image/png": "[encoded data removed]",
            "text/plain": [
              "<Figure size 432x288 with 1 Axes>"
            ]
          },
          "metadata": {
            "tags": [],
            "needs_background": "light"
          }
        },
        {
          "output_type": "stream",
          "text": [
            "predicted label: [0.99903667]\n",
            "actual label: 1\n",
            "The image is correctly classified\n"
          ],
          "name": "stdout"
        },
        {
          "output_type": "display_data",
          "data": {
            "image/png": "[encoded data removed]",
            "text/plain": [
              "<Figure size 432x288 with 1 Axes>"
            ]
          },
          "metadata": {
            "tags": [],
            "needs_background": "light"
          }
        },
        {
          "output_type": "stream",
          "text": [
            "predicted label: [0.9999667]\n",
            "actual label: 1\n",
            "The image is correctly classified\n"
          ],
          "name": "stdout"
        },
        {
          "output_type": "display_data",
          "data": {
            "image/png": "[encoded data removed]",
            "text/plain": [
              "<Figure size 432x288 with 1 Axes>"
            ]
          },
          "metadata": {
            "tags": [],
            "needs_background": "light"
          }
        },
        {
          "output_type": "stream",
          "text": [
            "predicted label: [1.5828385e-06]\n",
            "actual label: 0\n",
            "The image is correctly classified\n"
          ],
          "name": "stdout"
        }
      ]
    }
  ]
}